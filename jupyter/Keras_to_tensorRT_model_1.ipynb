{
 "cells": [
  {
   "cell_type": "code",
   "execution_count": 1,
   "metadata": {},
   "outputs": [
    {
     "name": "stderr",
     "output_type": "stream",
     "text": [
      "/mnt/0CCCB718CCB6FB52/Projekt/environment/tensorrt_3/lib/python3.6/site-packages/tensorflow/python/framework/dtypes.py:516: FutureWarning: Passing (type, 1) or '1type' as a synonym of type is deprecated; in a future version of numpy, it will be understood as (type, (1,)) / '(1,)type'.\n",
      "  _np_qint8 = np.dtype([(\"qint8\", np.int8, 1)])\n",
      "/mnt/0CCCB718CCB6FB52/Projekt/environment/tensorrt_3/lib/python3.6/site-packages/tensorflow/python/framework/dtypes.py:517: FutureWarning: Passing (type, 1) or '1type' as a synonym of type is deprecated; in a future version of numpy, it will be understood as (type, (1,)) / '(1,)type'.\n",
      "  _np_quint8 = np.dtype([(\"quint8\", np.uint8, 1)])\n",
      "/mnt/0CCCB718CCB6FB52/Projekt/environment/tensorrt_3/lib/python3.6/site-packages/tensorflow/python/framework/dtypes.py:518: FutureWarning: Passing (type, 1) or '1type' as a synonym of type is deprecated; in a future version of numpy, it will be understood as (type, (1,)) / '(1,)type'.\n",
      "  _np_qint16 = np.dtype([(\"qint16\", np.int16, 1)])\n",
      "/mnt/0CCCB718CCB6FB52/Projekt/environment/tensorrt_3/lib/python3.6/site-packages/tensorflow/python/framework/dtypes.py:519: FutureWarning: Passing (type, 1) or '1type' as a synonym of type is deprecated; in a future version of numpy, it will be understood as (type, (1,)) / '(1,)type'.\n",
      "  _np_quint16 = np.dtype([(\"quint16\", np.uint16, 1)])\n",
      "/mnt/0CCCB718CCB6FB52/Projekt/environment/tensorrt_3/lib/python3.6/site-packages/tensorflow/python/framework/dtypes.py:520: FutureWarning: Passing (type, 1) or '1type' as a synonym of type is deprecated; in a future version of numpy, it will be understood as (type, (1,)) / '(1,)type'.\n",
      "  _np_qint32 = np.dtype([(\"qint32\", np.int32, 1)])\n",
      "/mnt/0CCCB718CCB6FB52/Projekt/environment/tensorrt_3/lib/python3.6/site-packages/tensorflow/python/framework/dtypes.py:525: FutureWarning: Passing (type, 1) or '1type' as a synonym of type is deprecated; in a future version of numpy, it will be understood as (type, (1,)) / '(1,)type'.\n",
      "  np_resource = np.dtype([(\"resource\", np.ubyte, 1)])\n",
      "/mnt/0CCCB718CCB6FB52/Projekt/environment/tensorrt_3/lib/python3.6/site-packages/tensorboard/compat/tensorflow_stub/dtypes.py:541: FutureWarning: Passing (type, 1) or '1type' as a synonym of type is deprecated; in a future version of numpy, it will be understood as (type, (1,)) / '(1,)type'.\n",
      "  _np_qint8 = np.dtype([(\"qint8\", np.int8, 1)])\n",
      "/mnt/0CCCB718CCB6FB52/Projekt/environment/tensorrt_3/lib/python3.6/site-packages/tensorboard/compat/tensorflow_stub/dtypes.py:542: FutureWarning: Passing (type, 1) or '1type' as a synonym of type is deprecated; in a future version of numpy, it will be understood as (type, (1,)) / '(1,)type'.\n",
      "  _np_quint8 = np.dtype([(\"quint8\", np.uint8, 1)])\n",
      "/mnt/0CCCB718CCB6FB52/Projekt/environment/tensorrt_3/lib/python3.6/site-packages/tensorboard/compat/tensorflow_stub/dtypes.py:543: FutureWarning: Passing (type, 1) or '1type' as a synonym of type is deprecated; in a future version of numpy, it will be understood as (type, (1,)) / '(1,)type'.\n",
      "  _np_qint16 = np.dtype([(\"qint16\", np.int16, 1)])\n",
      "/mnt/0CCCB718CCB6FB52/Projekt/environment/tensorrt_3/lib/python3.6/site-packages/tensorboard/compat/tensorflow_stub/dtypes.py:544: FutureWarning: Passing (type, 1) or '1type' as a synonym of type is deprecated; in a future version of numpy, it will be understood as (type, (1,)) / '(1,)type'.\n",
      "  _np_quint16 = np.dtype([(\"quint16\", np.uint16, 1)])\n",
      "/mnt/0CCCB718CCB6FB52/Projekt/environment/tensorrt_3/lib/python3.6/site-packages/tensorboard/compat/tensorflow_stub/dtypes.py:545: FutureWarning: Passing (type, 1) or '1type' as a synonym of type is deprecated; in a future version of numpy, it will be understood as (type, (1,)) / '(1,)type'.\n",
      "  _np_qint32 = np.dtype([(\"qint32\", np.int32, 1)])\n",
      "/mnt/0CCCB718CCB6FB52/Projekt/environment/tensorrt_3/lib/python3.6/site-packages/tensorboard/compat/tensorflow_stub/dtypes.py:550: FutureWarning: Passing (type, 1) or '1type' as a synonym of type is deprecated; in a future version of numpy, it will be understood as (type, (1,)) / '(1,)type'.\n",
      "  np_resource = np.dtype([(\"resource\", np.ubyte, 1)])\n"
     ]
    }
   ],
   "source": [
    "import tensorflow as tf\n",
    "import tensorflow.contrib.tensorrt as trt\n",
    "import tensorflow.keras as tfk\n",
    "import random\n",
    "import os\n",
    "import pathlib\n",
    "from tensorflow.keras.models import load_model\n",
    "from tensorflow.compat.v1.graph_util import convert_variables_to_constants\n",
    "from tensorflow.python.platform import gfile\n",
    "from tensorflow.python.tools import freeze_graph"
   ]
  },
  {
   "cell_type": "code",
   "execution_count": 2,
   "metadata": {},
   "outputs": [],
   "source": [
    "base_path = os.getcwd()\n",
    "keras_model_pfad = \"keras_model_0.h5\"\n",
    "tf_model_pfad = os.path.join(base_path,'../Models/Tensor-Model/Tensor_')\n",
    "fr_graph_tf_model = tf_model_pfad + \"frozen_model_tf.pb\"\n",
    "fr_graph_trt_model =os.path.join(base_path,'../Models/RT-Model/frozen_model_trt.pb')"
   ]
  },
  {
   "cell_type": "markdown",
   "metadata": {},
   "source": [
    "### Keras zu Tensorflow-Model"
   ]
  },
  {
   "cell_type": "code",
   "execution_count": 3,
   "metadata": {},
   "outputs": [
    {
     "name": "stdout",
     "output_type": "stream",
     "text": [
      "Keras-Model wird hochgeladen!\n",
      "WARNING:tensorflow:From /mnt/0CCCB718CCB6FB52/Projekt/environment/tensorrt_3/lib/python3.6/site-packages/tensorflow/python/ops/init_ops.py:97: calling GlorotUniform.__init__ (from tensorflow.python.ops.init_ops) with dtype is deprecated and will be removed in a future version.\n",
      "Instructions for updating:\n",
      "Call initializer instance with the dtype argument instead of passing it to the constructor\n",
      "WARNING:tensorflow:From /mnt/0CCCB718CCB6FB52/Projekt/environment/tensorrt_3/lib/python3.6/site-packages/tensorflow/python/ops/init_ops.py:1251: calling VarianceScaling.__init__ (from tensorflow.python.ops.init_ops) with dtype is deprecated and will be removed in a future version.\n",
      "Instructions for updating:\n",
      "Call initializer instance with the dtype argument instead of passing it to the constructor\n",
      "WARNING:tensorflow:From /mnt/0CCCB718CCB6FB52/Projekt/environment/tensorrt_3/lib/python3.6/site-packages/tensorflow/python/ops/init_ops.py:97: calling Zeros.__init__ (from tensorflow.python.ops.init_ops) with dtype is deprecated and will be removed in a future version.\n",
      "Instructions for updating:\n",
      "Call initializer instance with the dtype argument instead of passing it to the constructor\n",
      "Tensor(\"conv2d_input:0\", shape=(?, 48, 48, 3), dtype=float32)\n",
      "Umwandlung vom Keras zu Tensor-Model..\n",
      "Umgewandelt und gespeichert!\n"
     ]
    }
   ],
   "source": [
    " \"\"\"\n",
    "diese Funktion wird ein Keras-Model in ein Tensor-Model\n",
    "Umwandeln\n",
    "\"\"\"\n",
    "\"\"\" da die Batchnormalisation-Parameter im Keras\n",
    "als trainable parameter gespeichert sind, mussen wird diese als\n",
    "non_trainable zurücksetzen\n",
    "\"\"\"\n",
    "tf.keras.backend.set_learning_phase(0)\n",
    "\n",
    "print(\"Keras-Model wird hochgeladen!\")\n",
    "try:\n",
    "    model = load_model(keras_model_pfad)\n",
    "except FileNotFoundError:\n",
    "    print(\"Kein .h5-Datei wurde gefunden!\")\n",
    "    exit()\n",
    "# get input und output des models for tensorflow improvement\n",
    "input_model = model.inputs[0]\n",
    "print(input_model)\n",
    "output_model = model.outputs[0]\n",
    "\n",
    "print(\"Umwandlung vom Keras zu Tensor-Model..\")\n",
    "# model.summary()\n",
    "# [print(node.op.name) for node in model.outputs]\n",
    "saver = tf.train.Saver()\n",
    "# keras session wird als tf- Session gelesen!\n",
    "sess = tf.keras.backend.get_session()\n",
    "# die Graph der Tf-Session wird gespeichert\n",
    "save_path = saver.save(sess, tf_model_pfad)\n",
    "tf.keras.backend.clear_session()\n",
    "print(\"Umgewandelt und gespeichert!\")"
   ]
  },
  {
   "cell_type": "markdown",
   "metadata": {},
   "source": [
    "### Convert Tf-Model zu tf-Frozen-Model"
   ]
  },
  {
   "cell_type": "code",
   "execution_count": 4,
   "metadata": {},
   "outputs": [
    {
     "name": "stdout",
     "output_type": "stream",
     "text": [
      "WARNING:tensorflow:From /mnt/0CCCB718CCB6FB52/Projekt/environment/tensorrt_3/lib/python3.6/site-packages/tensorflow/python/training/saver.py:1276: checkpoint_exists (from tensorflow.python.training.checkpoint_management) is deprecated and will be removed in a future version.\n",
      "Instructions for updating:\n",
      "Use standard file APIs to check for files with this prefix.\n",
      "INFO:tensorflow:Restoring parameters from /mnt/0CCCB718CCB6FB52/Projekt/Verkehrszeichenerkennung/jupyter/../Models/Tensor-Model/Tensor_\n",
      "['dense_1/Softmax']\n",
      "Frozen model ergestellt!\n",
      "WARNING:tensorflow:From <ipython-input-4-b985c1f8af51>:31: convert_variables_to_constants (from tensorflow.python.framework.graph_util_impl) is deprecated and will be removed in a future version.\n",
      "Instructions for updating:\n",
      "Use `tf.compat.v1.graph_util.convert_variables_to_constants`\n",
      "WARNING:tensorflow:From /mnt/0CCCB718CCB6FB52/Projekt/environment/tensorrt_3/lib/python3.6/site-packages/tensorflow/python/framework/graph_util_impl.py:270: extract_sub_graph (from tensorflow.python.framework.graph_util_impl) is deprecated and will be removed in a future version.\n",
      "Instructions for updating:\n",
      "Use `tf.compat.v1.graph_util.extract_sub_graph`\n",
      "INFO:tensorflow:Froze 16 variables.\n",
      "INFO:tensorflow:Converted 16 variables to const ops.\n",
      "speichert!\n",
      "WARNING:tensorflow:From <ipython-input-4-b985c1f8af51>:35: FastGFile.__init__ (from tensorflow.python.platform.gfile) is deprecated and will be removed in a future version.\n",
      "Instructions for updating:\n",
      "Use tf.gfile.GFile.\n",
      "Frozen model wurde gespeichert!\n"
     ]
    }
   ],
   "source": [
    "\"\"\"\n",
    " das aus Keras-Model Generierte Tensort-Model(oder ein normales\n",
    " Tensor-Model) wird hochgeladen\n",
    " und in frozen Graph umgewandelt\n",
    " input : tensor-Model\n",
    " ouput : frozen graph .pd\n",
    "\"\"\"\n",
    "# set the memory fraction eg. 0.2 meaning tf use 20% of gpu and\n",
    "# the will bei Trt\n",
    "gpu_option = tf.GPUOptions(per_process_gpu_memory_fraction=0.5)\n",
    "with tf.Session(config=tf.ConfigProto(gpu_options=gpu_option)) as sess:\n",
    "    # import of meta graph fo tensorflow model\n",
    "    path_meta_file = tf_model_pfad + \".meta\"\n",
    "    saver = tf.train.import_meta_graph(path_meta_file)\n",
    "    # print(graph)\n",
    "    # exit()\n",
    "    # restore the weights to the meta graph\n",
    "    saver.restore(sess, tf_model_pfad)\n",
    "\n",
    "    # specify the tensor output of the model\n",
    "    output_models = [n.name for\n",
    "                     n in tf.get_default_graph().as_graph_def().node\n",
    "                     if \"dense_1/Softmax\" in n.name]\n",
    "    print(output_models)\n",
    "    # print(output_models)\n",
    "    # exit()\n",
    "    # convert to frozen model\n",
    "    print(\"Frozen model ergestellt!\")\n",
    "    frozen_graph = convert_variables_to_constants(sess,\n",
    "                                                  tf.get_default_graph().as_graph_def(),\n",
    "                                                  output_node_names=[\"dense_1/Softmax\"])\n",
    "\n",
    "    # save the frozen graph\n",
    "    print(\"speichert!\")\n",
    "    with gfile.FastGFile(fr_graph_tf_model, \"wb\") as f:\n",
    "        f.write(frozen_graph.SerializeToString())\n",
    "    print(\"Frozen model wurde gespeichert!\")"
   ]
  },
  {
   "cell_type": "markdown",
   "metadata": {},
   "source": [
    "### Tensorflow-Frozen zu TensorRT-Model"
   ]
  },
  {
   "cell_type": "code",
   "execution_count": 5,
   "metadata": {},
   "outputs": [
    {
     "name": "stdout",
     "output_type": "stream",
     "text": [
      "INFO:tensorflow:Linked TensorRT version: (0, 0, 0)\n",
      "INFO:tensorflow:Loaded TensorRT version: (0, 0, 0)\n",
      "INFO:tensorflow:Running against TensorRT version 0.0.0\n"
     ]
    }
   ],
   "source": [
    "# Erstellung von TRT-Frozen-Model\n",
    "## read tensorflozen-Graph\n",
    "with tf.gfile.GFile(fr_graph_tf_model, \"rb\") as f:\n",
    "        graph_def = tf.GraphDef()\n",
    "        graph_def.ParseFromString(f.read())\n",
    "trt_graph = trt.create_inference_graph(input_graph_def=graph_def,outputs=[\"dense_1/Softmax\"], max_batch_size=2,max_workspace_size_bytes=2*(10**9), precision_mode=\"FP16\")\n",
    "\n",
    "# save Frozen-Graph von TensorRT\n",
    "if not pathlib.Path(fr_graph_trt_model).exists():\n",
    "    os.mknod(fr_graph_trt_model)\n",
    "with gfile.FastGFile(fr_graph_trt_model, \"wb\") as f:\n",
    "    f.write(trt_graph.SerializeToString())"
   ]
  },
  {
   "cell_type": "markdown",
   "metadata": {},
   "source": [
    "##  Improve Model"
   ]
  },
  {
   "cell_type": "code",
   "execution_count": 6,
   "metadata": {},
   "outputs": [
    {
     "name": "stdout",
     "output_type": "stream",
     "text": [
      "gelesen wird: Zulässige Höchstgeschwindigkeit (20 km/h)\n",
      "gelesen wird: Zulässige Höchstgeschwindigkeit (60 km/h)\n"
     ]
    },
    {
     "ename": "error",
     "evalue": "OpenCV(4.1.1) /io/opencv/modules/imgproc/src/color.cpp:182: error: (-215:Assertion failed) !_src.empty() in function 'cvtColor'\n",
     "output_type": "error",
     "traceback": [
      "\u001b[0;31m---------------------------------------------------------------------------\u001b[0m",
      "\u001b[0;31merror\u001b[0m                                     Traceback (most recent call last)",
      "\u001b[0;32m<ipython-input-6-16931aba73c9>\u001b[0m in \u001b[0;36m<module>\u001b[0;34m\u001b[0m\n\u001b[1;32m     20\u001b[0m \u001b[0mprint\u001b[0m\u001b[0;34m(\u001b[0m\u001b[0;34m\"gelesen wird:\"\u001b[0m\u001b[0;34m,\u001b[0m\u001b[0mclasse_label\u001b[0m\u001b[0;34m[\u001b[0m\u001b[0;36m3\u001b[0m\u001b[0;34m]\u001b[0m\u001b[0;34m[\u001b[0m\u001b[0;34m'SignName'\u001b[0m\u001b[0;34m]\u001b[0m\u001b[0;34m)\u001b[0m\u001b[0;34m\u001b[0m\u001b[0;34m\u001b[0m\u001b[0m\n\u001b[1;32m     21\u001b[0m \u001b[0;34m\u001b[0m\u001b[0m\n\u001b[0;32m---> 22\u001b[0;31m \u001b[0mimage1\u001b[0m \u001b[0;34m=\u001b[0m \u001b[0mcv2\u001b[0m\u001b[0;34m.\u001b[0m\u001b[0mcvtColor\u001b[0m\u001b[0;34m(\u001b[0m\u001b[0mimg1\u001b[0m\u001b[0;34m,\u001b[0m \u001b[0mcv2\u001b[0m\u001b[0;34m.\u001b[0m\u001b[0mCOLOR_BGR2RGB\u001b[0m\u001b[0;34m)\u001b[0m\u001b[0;34m\u001b[0m\u001b[0;34m\u001b[0m\u001b[0m\n\u001b[0m\u001b[1;32m     23\u001b[0m \u001b[0mimage2\u001b[0m \u001b[0;34m=\u001b[0m \u001b[0mcv2\u001b[0m\u001b[0;34m.\u001b[0m\u001b[0mcvtColor\u001b[0m\u001b[0;34m(\u001b[0m\u001b[0mimg2\u001b[0m\u001b[0;34m,\u001b[0m \u001b[0mcv2\u001b[0m\u001b[0;34m.\u001b[0m\u001b[0mCOLOR_BGR2RGB\u001b[0m\u001b[0;34m)\u001b[0m\u001b[0;34m\u001b[0m\u001b[0;34m\u001b[0m\u001b[0m\n\u001b[1;32m     24\u001b[0m \u001b[0;34m\u001b[0m\u001b[0m\n",
      "\u001b[0;31merror\u001b[0m: OpenCV(4.1.1) /io/opencv/modules/imgproc/src/color.cpp:182: error: (-215:Assertion failed) !_src.empty() in function 'cvtColor'\n"
     ]
    }
   ],
   "source": [
    "%matplotlib inline\n",
    "import matplotlib.pyplot as plt\n",
    "import numpy as np\n",
    "import cv2\n",
    "import pandas as pd\n",
    "import time\n",
    "import numpy as np\n",
    "\n",
    "IMG_SIZE = 48\n",
    "input_node = \"conv2d_input:0\"\n",
    "output_node = \"dense_1/Softmax:0\"\n",
    "pfad_beschreibung = os.path.join(base_path,\"../Daten/utils/Text_Beschreibung.csv\")\n",
    "classe_label = pd.read_csv(pfad_beschreibung)\n",
    "classe_label = classe_label.set_index('ClassId').T.to_dict()\n",
    "\n",
    "# Bilder werden einglesen im RGB-Format\n",
    "img1 = cv2.imread(\"00000_00010.ppm\", cv2.IMREAD_UNCHANGED)\n",
    "print(\"gelesen wird:\",classe_label[0]['SignName'])\n",
    "img2 = cv2.imread(\"00000_00006.ppm\", cv2.IMREAD_UNCHANGED)\n",
    "print(\"gelesen wird:\",classe_label[3]['SignName'])\n",
    "\n",
    "image1 = cv2.cvtColor(img1, cv2.COLOR_BGR2RGB)\n",
    "image2 = cv2.cvtColor(img2, cv2.COLOR_BGR2RGB)\n",
    "\n",
    "#image preporcessing\n",
    "image1 = cv2.resize(image1, (IMG_SIZE,IMG_SIZE), interpolation = cv2.INTER_AREA) \n",
    "image2 = cv2.resize(image2, (IMG_SIZE,IMG_SIZE), interpolation = cv2.INTER_AREA) \n",
    "\n",
    "images = [image1, image2]\n",
    "labels_classes = [0, 3]\n",
    "\n",
    "# show image\n",
    "fig=plt.figure(figsize=(4, 4))\n",
    "columns = 2\n",
    "rows = 1\n",
    "count = 1\n",
    "for real_image in zip(images, labels_classes):\n",
    "    fig.add_subplot(rows, columns,count)\n",
    "    count +=1\n",
    "    real_label = classe_label[real_image[1]]['SignName']\n",
    "    real_label = real_label.replace(\" \", \"\\n\")\n",
    "    plt.title(real_label)\n",
    "    plt.imshow(real_image[0])       \n",
    "plt.show()"
   ]
  },
  {
   "cell_type": "code",
   "execution_count": null,
   "metadata": {},
   "outputs": [],
   "source": [
    "def perform_model(path_frozen_graph, input_node, output_node, input_img):\n",
    "    \"\"\"\n",
    "    Diese funktion wird dafür helfen, irgenwelches Model(Tensorflow/TensorRt)\n",
    "    anzuwenden\n",
    "    \"\"\"\n",
    "    gpu_option = tf.GPUOptions(per_process_gpu_memory_fraction=0.50)\n",
    "    frozen_graph = tf.Graph()\n",
    "    with frozen_graph.as_default():\n",
    "        with tf.Session(config=tf.ConfigProto(gpu_options=gpu_option)) as sess:\n",
    "            print(\"der Graph wird gelesen!\")\n",
    "            with tf.gfile.GFile(fr_graph_tf_model, \"rb\") as f:\n",
    "                frozen_graph = tf.GraphDef()\n",
    "                frozen_graph.ParseFromString(f.read())\n",
    "            print(\"der wurde gelesen!\")\n",
    "\n",
    "            # Auswahl von input und output\n",
    "            tf.import_graph_def(frozen_graph, name='')\n",
    "            input_tensor = sess.graph.get_tensor_by_name(input_node)\n",
    "            output_tensor = sess.graph.get_tensor_by_name(output_node)\n",
    "\n",
    "            total_time = 0\n",
    "            n_time_inference = 50\n",
    "            input_img = input_img.reshape(-1, IMG_SIZE, IMG_SIZE, 3)\n",
    "            out_pred = sess.run(output_tensor,\n",
    "                                feed_dict={input_tensor: input_img})\n",
    "\n",
    "            for i in range(n_time_inference):\n",
    "                t1 = time.time()\n",
    "                out_pred = sess.run(output_tensor,\n",
    "                                    feed_dict={input_tensor: input_img})\n",
    "                t2 = time.time()\n",
    "                delta_time = t2 - t1\n",
    "                total_time += delta_time\n",
    "                print(\"gebrauchte Zeit - \" + str(i) + \": \", delta_time)\n",
    "            print(\"mittelre Zeit: {}\".format(total_time/n_time_inference))\n",
    "            mittelre_zeit = total_time/n_time_inference\n",
    "    return out_pred, mittelre_zeit\n"
   ]
  },
  {
   "cell_type": "markdown",
   "metadata": {},
   "source": [
    "### Frozen -Graph Tensorflow"
   ]
  },
  {
   "cell_type": "code",
   "execution_count": 7,
   "metadata": {},
   "outputs": [
    {
     "ename": "NameError",
     "evalue": "name 'images' is not defined",
     "output_type": "error",
     "traceback": [
      "\u001b[0;31m---------------------------------------------------------------------------\u001b[0m",
      "\u001b[0;31mNameError\u001b[0m                                 Traceback (most recent call last)",
      "\u001b[0;32m<ipython-input-7-731db298458f>\u001b[0m in \u001b[0;36m<module>\u001b[0;34m\u001b[0m\n\u001b[1;32m      1\u001b[0m \u001b[0mprediction_classes\u001b[0m \u001b[0;34m=\u001b[0m \u001b[0;34m[\u001b[0m\u001b[0;34m]\u001b[0m\u001b[0;34m\u001b[0m\u001b[0;34m\u001b[0m\u001b[0m\n\u001b[1;32m      2\u001b[0m \u001b[0msum_zeit\u001b[0m\u001b[0;34m=\u001b[0m\u001b[0;36m0\u001b[0m\u001b[0;34m\u001b[0m\u001b[0;34m\u001b[0m\u001b[0m\n\u001b[0;32m----> 3\u001b[0;31m \u001b[0;32mfor\u001b[0m \u001b[0mimage\u001b[0m \u001b[0;32min\u001b[0m \u001b[0mimages\u001b[0m\u001b[0;34m:\u001b[0m\u001b[0;34m\u001b[0m\u001b[0;34m\u001b[0m\u001b[0m\n\u001b[0m\u001b[1;32m      4\u001b[0m     prediction, zeit = perform_model(fr_graph_tf_model,\n\u001b[1;32m      5\u001b[0m                                      \u001b[0minput_node\u001b[0m\u001b[0;34m,\u001b[0m\u001b[0;34m\u001b[0m\u001b[0;34m\u001b[0m\u001b[0m\n",
      "\u001b[0;31mNameError\u001b[0m: name 'images' is not defined"
     ]
    }
   ],
   "source": [
    "prediction_classes = []\n",
    "sum_zeit=0\n",
    "for image in images:\n",
    "    prediction, zeit = perform_model(fr_graph_tf_model,\n",
    "                                     input_node,\n",
    "                                     output_node,\n",
    "                                     image)\n",
    "    prediction_classes.append(prediction)\n",
    "    sum_zeit += zeit\n",
    "\n",
    "# show image\n",
    "fig=plt.figure(figsize=(4, 4))\n",
    "columns = 2\n",
    "rows = 2\n",
    "count = 1\n",
    "for image, label_class,predicted_class in zip(images, labels_classes, prediction_classes):\n",
    "    fig.add_subplot(rows, columns,count)\n",
    "    count +=1\n",
    "    real_label = classe_label[label_class]['SignName']\n",
    "    real_label = real_label.replace(\" \", \"\\n\")\n",
    "    predicted_label = classe_label[np.argmax(predicted_class[0])]['SignName']\n",
    "    predicted_label = predicted_label.replace(\" \", \"\\n\")\n",
    "    plt.title(\"Das Model hat predictd: {}\\n und Rictig ist: {}\\n\".format(predicted_label, real_label))\n",
    "    plt.imshow(image)\n",
    "label = 'Ergebnisse von Tensorflow in {} secunde Zeit '.format(sum_zeit/len(images))\n",
    "fig.suptitle(label, fontsize=16, fontweight=\"bold\")\n",
    "plt.show()"
   ]
  },
  {
   "cell_type": "markdown",
   "metadata": {},
   "source": [
    "### tensorRT - Model"
   ]
  },
  {
   "cell_type": "code",
   "execution_count": null,
   "metadata": {},
   "outputs": [],
   "source": [
    "prediction_classes = []\n",
    "sum_zeit=0\n",
    "for image in images:\n",
    "    prediction, zeit = perform_model(fr_graph_trt_model,\n",
    "                                     input_node,\n",
    "                                     output_node,\n",
    "                                     image)\n",
    "    prediction_classes.append(prediction)\n",
    "    sum_zeit += zeit\n",
    "\n",
    "# show image\n",
    "fig=plt.figure(figsize=(4, 4))\n",
    "columns = 2\n",
    "rows = 2\n",
    "count = 1\n",
    "for image, label_class,predicted_class in zip(images, labels_classes, prediction_classes):\n",
    "    fig.add_subplot(rows, columns,count)\n",
    "    count +=1\n",
    "    real_label = classe_label[label_class]['SignName']\n",
    "    real_label = real_label.replace(\" \", \"\\n\")\n",
    "    predicted_label = classe_label[np.argmax(predicted_class[0])]['SignName']\n",
    "    predicted_label = predicted_label.replace(\" \", \"\\n\")\n",
    "    plt.title(\"Das Model hat predictd: {}\\n und Rictig ist: {}\\n\".format(predicted_label, real_label))\n",
    "    plt.imshow(image)\n",
    "label = 'Ergebnisse von TensorRT in {} secunde Zeit '.format(sum_zeit/len(images))\n",
    "fig.suptitle(label, fontsize=16, fontweight=\"bold\")\n",
    "plt.show()"
   ]
  }
 ],
 "metadata": {
  "kernelspec": {
   "display_name": "Python 3",
   "language": "python",
   "name": "python3"
  },
  "language_info": {
   "codemirror_mode": {
    "name": "ipython",
    "version": 3
   },
   "file_extension": ".py",
   "mimetype": "text/x-python",
   "name": "python",
   "nbconvert_exporter": "python",
   "pygments_lexer": "ipython3",
   "version": "3.6.8"
  }
 },
 "nbformat": 4,
 "nbformat_minor": 2
}
