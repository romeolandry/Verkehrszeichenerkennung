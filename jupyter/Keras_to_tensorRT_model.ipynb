{
 "cells": [
  {
   "cell_type": "markdown",
   "metadata": {},
   "source": [
    "# Pratische Umwandlung des Keras-Model zu TensorRT-Model"
   ]
  },
  {
   "cell_type": "markdown",
   "metadata": {},
   "source": [
    "## Keras-Model zu tensorflow-Model"
   ]
  },
  {
   "cell_type": "code",
   "execution_count": null,
   "metadata": {},
   "outputs": [],
   "source": [
    "import tensorflow as tf\n",
    "import tensorflow.contrib.tensorrt as trt\n",
    "import tensorflow.keras as tfk\n",
    "from tensorflow.python.keras.models import load_model\n",
    "from tensorflow.compat.v1.graph_util import convert_variables_to_constants\n",
    "from tensorflow.python.platform import gfile"
   ]
  },
  {
   "cell_type": "markdown",
   "metadata": {},
   "source": [
    "### Keras zu tensorflow"
   ]
  },
  {
   "cell_type": "code",
   "execution_count": null,
   "metadata": {},
   "outputs": [],
   "source": [
    "keras_model_pfad = \"\"\n",
    "tf_model_pfad = \"\"\n",
    "fr_graph_tf_model = \"\"\n",
    "fr_graph_trt_model = \"\"\n",
    "# tfk.backend.set_learning(0) # falls das keras-Model mit Batchnormalisation trainiert wurde\n",
    "model = load_model =(keras_model_pfad)\n",
    "saver = tf.train.Saver()\n",
    "sess = tfk.backend.get_session()\n",
    "save_path = saver.save(sess, tf_model_pfad)"
   ]
  },
  {
   "cell_type": "markdown",
   "metadata": {},
   "source": [
    "### tensorflow zu Frozen-Model(.pb)"
   ]
  },
  {
   "cell_type": "code",
   "execution_count": null,
   "metadata": {},
   "outputs": [],
   "source": [
    "gpu_option = tf.GPUOptions(per_process_gpu_memory_fraction=0.5)\n",
    "saver_tf_fr = tf.train.Saver()\n",
    "with tf.Session(config = tf.ConfigProto(gpu_options=gpu_option)) as sess:\n",
    "    # Datei mit der Graph-Struktur wird gelesen.\n",
    "    saver_tf_fr = tf.train.import_meta_graph(tf_model_pfad+ str(\".meta\")\n",
    "    # das Gewich des Model wicht gelesen\n",
    "    saver_tf_fr.restore(sess, tf_model_pfad)\n",
    "    output_models = [n.name for n in tf.get_default_graph().as_graph_def().node]\n",
    "    # Erstellung der frozen Graph\n",
    "    tf_frozen_graph = convert_variables_to_constants(sess, tf.get_default_graph().as_graph_def(), ouput_node_names = output_models)\n",
    "\n",
    "# save frozen-graph\n",
    "with gfile.FastGFile(fr_graph_tf_model, \"wb\") as f:\n",
    "    f.write(tf_frozen_graph.SerializeToString()))"
   ]
  },
  {
   "cell_type": "markdown",
   "metadata": {},
   "source": [
    "### Umwandlung von tensorflow-Model zu TensorRT-Model (frozen-graph)"
   ]
  },
  {
   "cell_type": "code",
   "execution_count": null,
   "metadata": {},
   "outputs": [],
   "source": [
    "# Erstellung von TRT-Frozen-Model\n",
    "trt_graph = trt.create_inference_graph(input_graph_def=tf_frozen_graph,outputs=output_models, max_batch_size=2,max_workspace_size_bytes=2*(10**9), precision_mode=\"FP32\")\n",
    "# save frozen-graph\n",
    "with gfile.FastGFile(fr_graph_trt_model, \"wb\") as f:\n",
    "    f.write(trt_graph.SerializeToString()))"
   ]
  }
 ],
 "metadata": {
  "kernelspec": {
   "display_name": "Python 3",
   "language": "python",
   "name": "python3"
  },
  "language_info": {
   "codemirror_mode": {
    "name": "ipython",
    "version": 3
   },
   "file_extension": ".py",
   "mimetype": "text/x-python",
   "name": "python",
   "nbconvert_exporter": "python",
   "pygments_lexer": "ipython3",
   "version": "3.7.3"
  }
 },
 "nbformat": 4,
 "nbformat_minor": 2
}
