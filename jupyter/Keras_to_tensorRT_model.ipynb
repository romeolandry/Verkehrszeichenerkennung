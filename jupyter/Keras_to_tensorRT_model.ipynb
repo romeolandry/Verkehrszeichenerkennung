{
 "cells": [
  {
   "cell_type": "markdown",
   "metadata": {},
   "source": [
    "# Pratische Umwandlung des Keras-Model zu TensorRT-Model"
   ]
  },
  {
   "cell_type": "markdown",
   "metadata": {},
   "source": [
    "## Keras-Model zu tensorflow-Model"
   ]
  },
  {
   "cell_type": "code",
   "execution_count": null,
   "metadata": {},
   "outputs": [],
   "source": [
    "import tensorflow as tf\n",
    "import tensorflow.contrib.tensorrt as trt\n",
    "import tensorflow.keras as tfk\n",
    "from tensorflow.python.keras.models import load_model\n",
    "from tensorflow.compat.v1.graph_util import convert_variables_to_constants\n",
    "from tensorflow.python.platform import gfile\n",
    "from tensorflow.python.tools import freeze_graph"
   ]
  },
  {
   "cell_type": "markdown",
   "metadata": {},
   "source": [
    "### Keras zu Tensorflow-Frozen Model"
   ]
  },
  {
   "cell_type": "code",
   "execution_count": null,
   "metadata": {},
   "outputs": [],
   "source": [
    "keras_model_pfad = \"\"\n",
    "tf_model_pfad = \"\"\n",
    "fr_graph_tf_model = \"\"\n",
    "fr_graph_trt_model = \"\"\n",
    "# tfk.backend.set_learning(0) # falls das keras-Model mit Batchnormalisation trainiert wurde\n",
    "model = load_model =(keras_model_pfad)\n",
    "saver = tf.train.Saver()\n",
    "sess = tfk.backend.get_session()\n",
    "# get input und output des models for tensorflow improvement\n",
    "input_model = model.inputs[0]\n",
    "out_model = model.outputs[0]\n",
    "# save tensort-Graph\n",
    "tf.saved_model.simple_save(sess,\n",
    "                          tf_model_pfad,\n",
    "                          inputs=input_model,\n",
    "                          outputs=output)\n",
    "# das model wird jetzt compiliert werden\n",
    "freeze_graph.freeze_graph(None,\n",
    "                          None,\n",
    "                          None,\n",
    "                          None,\n",
    "                          model.outputs[0].op.name,\n",
    "                          None,\n",
    "                          None,\n",
    "                          fr_graph_tf_model,\n",
    "                          False,\n",
    "                          \"\",\n",
    "                          input_saved_model_dir=tf_model_pfad)"
   ]
  },
  {
   "cell_type": "markdown",
   "metadata": {},
   "source": [
    "### tensorflow-frozen  zu TRT_Frozen-Model(.pb)"
   ]
  },
  {
   "cell_type": "code",
   "execution_count": null,
   "metadata": {},
   "outputs": [],
   "source": [
    "# Erstellung von TRT-Frozen-Model\n",
    "## read tensorflozen-Graph\n",
    "with tf.gfile.GFile(fr_graph_tf_model, \"rb\") as f:\n",
    "        graph_def = tf.GraphDef()\n",
    "        graph_def.ParseFromString(f.read())\n",
    "trt_graph = trt.create_inference_graph(input_graph_def=tf_frozen_graph,outputs=output_models, max_batch_size=2,max_workspace_size_bytes=2*(10**9), precision_mode=\"FP32\")\n",
    "# save frozen-graph\n",
    "with gfile.FastGFile(fr_graph_trt_model, \"wb\") as f:\n",
    "    f.write(trt_graph.SerializeToString()))"
   ]
  }
 ],
 "metadata": {
  "kernelspec": {
   "display_name": "Python 3",
   "language": "python",
   "name": "python3"
  },
  "language_info": {
   "codemirror_mode": {
    "name": "ipython",
    "version": 3
   },
   "file_extension": ".py",
   "mimetype": "text/x-python",
   "name": "python",
   "nbconvert_exporter": "python",
   "pygments_lexer": "ipython3",
   "version": "3.7.3"
  }
 },
 "nbformat": 4,
 "nbformat_minor": 2
}
